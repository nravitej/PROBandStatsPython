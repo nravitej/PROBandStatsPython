{
 "cells": [
  {
   "cell_type": "code",
   "execution_count": 17,
   "id": "08abd43c",
   "metadata": {},
   "outputs": [
    {
     "name": "stdout",
     "output_type": "stream",
     "text": [
      "x**3*y - x*y**3\n",
      "Enter the x value to find the gradient of Equation:1\n",
      "Enter the y value to find the gradient of Equation:2\n",
      "gradient: -2.00000000000000 -11.0000000000000\n",
      "\n",
      "Enter the u1 value to find the directional derivative of Equation:3\n",
      "Enter the u2 value to find the directional derivative of Equation:5\n",
      "\n",
      "The unit vector is: 1.3416407864998738 2.23606797749979\n",
      "\n",
      "directional derivative: -27.2800293254974\n"
     ]
    }
   ],
   "source": [
    "from sympy import symbols,diff\n",
    "\n",
    "\n",
    "\n",
    "\n",
    "x,y=symbols('x,y',real=True)\n",
    "#The Equation\n",
    "f=((x**3)*y**1)-((x**1)*(y**3))\n",
    "print(f)\n",
    "\n",
    "try:\n",
    "    #It takes the input values\n",
    "    x1=input(\"Enter the x value to find the gradient of Equation:\")\n",
    "    y1=input(\"Enter the y value to find the gradient of Equation:\")\n",
    "    x1=float(x1)\n",
    "    y1=float(y1)\n",
    "    fx=diff(f,x)#differentiation with respect to x\n",
    "    fy=diff(f,y)#differentiation with respect to y\n",
    "    #substituting x1 and y1 to get the gradient\n",
    "    gx=fx.subs(x,x1).subs(y,y1)\n",
    "    gy=fy.subs(x,x1).subs(y,y1)\n",
    "    #print(fx,fy)\n",
    "    \n",
    "    \n",
    "    print(\"gradient:\",gx,gy)\n",
    "    \n",
    "    try:\n",
    "        u1=input(\"\\nEnter the u1 value to find the directional derivative of Equation:\")\n",
    "        u2=input(\"Enter the u2 value to find the directional derivative of Equation:\")\n",
    "        u1=float(u1)\n",
    "        u2=float(u2)\n",
    "    \n",
    "        um=((x1**2)+(y1**2))**(1/2)\n",
    "        #cosa=(u1/sqrt(x1^2+y1^2)) value of the equation w.r.t u1\n",
    "        u11=(u1/um)\n",
    "        #cosb=(u2/sqrt(x1^2+y1^2)) value of the equation w.r.t u2\n",
    "        u22=(u2/um)\n",
    "        #cosa i^ + cosb j^ is the unit vector\n",
    "        print(\"\\nThe unit vector is:\",u11,u22)\n",
    "        #The directional derivative of f(x,y)=f'x(x,y)*cosa+f'y(x,y)*cosb\n",
    "        dg=gx*u11+(gy*u22)\n",
    "        \n",
    "        print(\"\\ndirectional derivative:\",dg)\n",
    "    except ValueError as verr:\n",
    "        print(\"Kindly enter appropriate vector values\")\n",
    "    except Exception as ex:\n",
    "        print(\"Kindly check the values\")\n",
    "        \n",
    "except ValueError as verr:\n",
    "    print(\"Kindly enter appropriate value\")\n",
    "except Exception as ex:\n",
    "    print(\"Kindly check the values\")\n",
    "    \n",
    "\n",
    "\n"
   ]
  },
  {
   "cell_type": "code",
   "execution_count": null,
   "id": "a1c4ebc2",
   "metadata": {},
   "outputs": [],
   "source": []
  }
 ],
 "metadata": {
  "kernelspec": {
   "display_name": "Python 3 (ipykernel)",
   "language": "python",
   "name": "python3"
  },
  "language_info": {
   "codemirror_mode": {
    "name": "ipython",
    "version": 3
   },
   "file_extension": ".py",
   "mimetype": "text/x-python",
   "name": "python",
   "nbconvert_exporter": "python",
   "pygments_lexer": "ipython3",
   "version": "3.9.7"
  }
 },
 "nbformat": 4,
 "nbformat_minor": 5
}
